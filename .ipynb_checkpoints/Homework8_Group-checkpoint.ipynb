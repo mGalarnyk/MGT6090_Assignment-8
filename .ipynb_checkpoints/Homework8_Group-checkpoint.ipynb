{
 "cells": [
  {
   "cell_type": "markdown",
   "id": "d35a3357",
   "metadata": {},
   "source": [
    "# Assignment 8: BHC Analysis using Python\n",
    "#### Group: Mitchell Kramer, Nicholas Meyer,  Nikita Tatarinov, Glenn Matlin, Michael Galarnyk"
   ]
  },
  {
   "cell_type": "code",
   "execution_count": 1,
   "id": "a08a980d",
   "metadata": {
    "tags": []
   },
   "outputs": [],
   "source": [
    "\n",
    "import pandas as pd\n",
    "import numpy as np\n",
    "import matplotlib.pyplot as plt\n",
    "import seaborn as sns\n",
    "import pickle \n",
    "from tqdm import tqdm\n",
    "\n",
    "# Feel free to add or remove libraries as you see fit\n",
    "from scipy.stats import skew, kurtosis\n",
    "from scipy.stats import ttest_1samp\n",
    "import statsmodels.api as sm\n",
    "from statsmodels.tsa.api import VAR\n",
    "from statsmodels.tsa.stattools import acovf\n",
    "from statsmodels.stats.sandwich_covariance import cov_hac"
   ]
  },
  {
   "cell_type": "markdown",
   "id": "e39aff9c",
   "metadata": {},
   "source": [
    "## Assignment Description"
   ]
  },
  {
   "cell_type": "markdown",
   "id": "694c79d3",
   "metadata": {},
   "source": [
    "The goal of the assignment is to understand banks financial statements and the risks they are\n",
    "exposed to. There are a number of issues (listed below) that I want the students to address\n",
    "in the assignment report. Each group is expected to pick a bank or bank holding company.\n",
    "\n",
    "1. Draw a random number generated using one of the team member gtid as a seed over theinterval (1, 25). List the seed and your random number at the top of the report.\n",
    "2. You can select the random number using Python\n",
    "3. Select the corresponding bank (rank based on size that is the same as the random number) at https://www.ffiec.gov/npw/Institution/TopHoldings\n",
    "4. If the BHC is not publicly listed in the U.S., redraw the random number\n",
    "5. I will cold call students in class to describe their findings about their assigned bank in the class"
   ]
  },
  {
   "cell_type": "code",
   "execution_count": 2,
   "id": "7bcbda4c",
   "metadata": {},
   "outputs": [],
   "source": [
    "# Dictionary provided by the user\n",
    "group_id = {\n",
    "    \"Glenn Matlin\": 903738044,\n",
    "    \"Nikita Tatarinov\": 903914813,\n",
    "    \"Michael Galarnyk\": 903918895,\n",
    "    \"Mitchell Kramer\": 903176941,\n",
    "    \"Nicholas Meyer\": 903444783\n",
    "}\n",
    "\n",
    "# Initialize a list to hold the random numbers\n",
    "random_numbers = []\n",
    "\n",
    "# Iterate over the GTIDs in the group_id dictionary\n",
    "# For each GTID, we set it as the seed and generate a random number\n",
    "for name, gtid in group_id.items():\n",
    "    np.random.seed(gtid)  # Set the seed\n",
    "    random_num = np.random.randint(1, 26)  # Generate the random number\n",
    "    random_numbers.append(random_num)  # Append to the list\n",
    "\n",
    "# Create a DataFrame from the group_id dictionary and the list of random numbers\n",
    "df = pd.DataFrame(list(group_id.items()), columns=['Student', 'GTID'])\n",
    "df['Random_Number'] = random_numbers  # Add the random numbers to the DataFrame\n"
   ]
  },
  {
   "cell_type": "code",
   "execution_count": 3,
   "id": "87766f71",
   "metadata": {},
   "outputs": [],
   "source": [
    "holding_df = pd.read_csv(\"data/LargeHoldingCompanies.csv\")\n",
    "\n",
    "# Get Bank Names\n",
    "df = pd.merge(df,\n",
    "         holding_df,\n",
    "         left_on='Random_Number', right_on='Rank', how='left')"
   ]
  },
  {
   "cell_type": "code",
   "execution_count": 4,
   "id": "b26fe663",
   "metadata": {},
   "outputs": [
    {
     "data": {
      "text/html": [
       "<div>\n",
       "<style scoped>\n",
       "    .dataframe tbody tr th:only-of-type {\n",
       "        vertical-align: middle;\n",
       "    }\n",
       "\n",
       "    .dataframe tbody tr th {\n",
       "        vertical-align: top;\n",
       "    }\n",
       "\n",
       "    .dataframe thead th {\n",
       "        text-align: right;\n",
       "    }\n",
       "</style>\n",
       "<table border=\"1\" class=\"dataframe\">\n",
       "  <thead>\n",
       "    <tr style=\"text-align: right;\">\n",
       "      <th></th>\n",
       "      <th>Student</th>\n",
       "      <th>GTID</th>\n",
       "      <th>Random_Number</th>\n",
       "      <th>Rank</th>\n",
       "      <th>Name</th>\n",
       "      <th>RSSDID</th>\n",
       "      <th>Location</th>\n",
       "      <th>TotalAsset</th>\n",
       "    </tr>\n",
       "  </thead>\n",
       "  <tbody>\n",
       "    <tr>\n",
       "      <th>0</th>\n",
       "      <td>Glenn Matlin</td>\n",
       "      <td>903738044</td>\n",
       "      <td>9</td>\n",
       "      <td>9</td>\n",
       "      <td>TRUIST FINANCIAL CORPORATION                  ...</td>\n",
       "      <td>1074156</td>\n",
       "      <td>CHARLOTTE, NC</td>\n",
       "      <td>5.545490e+08</td>\n",
       "    </tr>\n",
       "    <tr>\n",
       "      <th>1</th>\n",
       "      <td>Nikita Tatarinov</td>\n",
       "      <td>903914813</td>\n",
       "      <td>9</td>\n",
       "      <td>9</td>\n",
       "      <td>TRUIST FINANCIAL CORPORATION                  ...</td>\n",
       "      <td>1074156</td>\n",
       "      <td>CHARLOTTE, NC</td>\n",
       "      <td>5.545490e+08</td>\n",
       "    </tr>\n",
       "    <tr>\n",
       "      <th>2</th>\n",
       "      <td>Michael Galarnyk</td>\n",
       "      <td>903918895</td>\n",
       "      <td>17</td>\n",
       "      <td>17</td>\n",
       "      <td>HSBC NORTH AMERICA HOLDINGS INC.              ...</td>\n",
       "      <td>3232316</td>\n",
       "      <td>NEW YORK, NY</td>\n",
       "      <td>2.236565e+08</td>\n",
       "    </tr>\n",
       "    <tr>\n",
       "      <th>3</th>\n",
       "      <td>Mitchell Kramer</td>\n",
       "      <td>903176941</td>\n",
       "      <td>1</td>\n",
       "      <td>1</td>\n",
       "      <td>JPMORGAN CHASE &amp; CO.                          ...</td>\n",
       "      <td>1039502</td>\n",
       "      <td>NEW YORK, NY</td>\n",
       "      <td>3.868240e+09</td>\n",
       "    </tr>\n",
       "    <tr>\n",
       "      <th>4</th>\n",
       "      <td>Nicholas Meyer</td>\n",
       "      <td>903444783</td>\n",
       "      <td>16</td>\n",
       "      <td>16</td>\n",
       "      <td>AMERICAN EXPRESS COMPANY                      ...</td>\n",
       "      <td>1275216</td>\n",
       "      <td>NEW YORK, NY</td>\n",
       "      <td>2.449040e+08</td>\n",
       "    </tr>\n",
       "  </tbody>\n",
       "</table>\n",
       "</div>"
      ],
      "text/plain": [
       "            Student       GTID  Random_Number  Rank  \\\n",
       "0      Glenn Matlin  903738044              9     9   \n",
       "1  Nikita Tatarinov  903914813              9     9   \n",
       "2  Michael Galarnyk  903918895             17    17   \n",
       "3   Mitchell Kramer  903176941              1     1   \n",
       "4    Nicholas Meyer  903444783             16    16   \n",
       "\n",
       "                                                Name   RSSDID       Location  \\\n",
       "0  TRUIST FINANCIAL CORPORATION                  ...  1074156  CHARLOTTE, NC   \n",
       "1  TRUIST FINANCIAL CORPORATION                  ...  1074156  CHARLOTTE, NC   \n",
       "2  HSBC NORTH AMERICA HOLDINGS INC.              ...  3232316   NEW YORK, NY   \n",
       "3  JPMORGAN CHASE & CO.                          ...  1039502   NEW YORK, NY   \n",
       "4  AMERICAN EXPRESS COMPANY                      ...  1275216   NEW YORK, NY   \n",
       "\n",
       "     TotalAsset  \n",
       "0  5.545490e+08  \n",
       "1  5.545490e+08  \n",
       "2  2.236565e+08  \n",
       "3  3.868240e+09  \n",
       "4  2.449040e+08  "
      ]
     },
     "execution_count": 4,
     "metadata": {},
     "output_type": "execute_result"
    }
   ],
   "source": [
    "df"
   ]
  },
  {
   "cell_type": "markdown",
   "id": "d31ff7c3",
   "metadata": {},
   "source": [
    "## Section 1: Current Information about the bank"
   ]
  },
  {
   "cell_type": "markdown",
   "id": "67735e80",
   "metadata": {},
   "source": [
    "This section should be brief. One paragraph.\n",
    "1. What are the various business units of the bank (for example, is the bank a pure commercial bank or does it engage in investment banking and other financial businesses?). You can get this information from the firm’s 10-K."
   ]
  },
  {
   "cell_type": "code",
   "execution_count": null,
   "id": "0539bc33",
   "metadata": {},
   "outputs": [],
   "source": []
  },
  {
   "cell_type": "markdown",
   "id": "7ecc0d21",
   "metadata": {},
   "source": [
    "## Section 2: Understand the Ownership Structure"
   ]
  },
  {
   "cell_type": "markdown",
   "id": "0d929fb8",
   "metadata": {},
   "source": [
    "Analyze (see yahoo finance or Bloomberg or the company’s investor website for the ownership structure). The data needs to be extracted using Python from the relevant URL. This section should be brief. One paragraph with data tables / graphs in the appendix.\n",
    "1. Institutional Ownership\n",
    "2. Non-Institutional Ownership\n",
    "3. Insider Ownership\n",
    "4. Are the insiders buying or selling the stock recently?"
   ]
  },
  {
   "cell_type": "markdown",
   "id": "afffc41e",
   "metadata": {},
   "source": [
    "## Section 3: How do the markets view the bank"
   ]
  },
  {
   "cell_type": "markdown",
   "id": "1d2ebc61",
   "metadata": {},
   "source": [
    "This section should be a short summary with the corresponding tables in the Appendix\n",
    "1. Stock Return, Beta, Volatility (compute using Python, translate your previous Rcode into Python)\n",
    "2. Short-interest in the bank’s stock. days it takes to cover the short-interest (from the exchange or other sources)\n",
    "3. CDS prices (from bloomberg or some other source). Can show a graph using this data\n",
    "4. Credit ratings\n",
    "5. Analyst opinions"
   ]
  },
  {
   "cell_type": "code",
   "execution_count": null,
   "id": "1ed6d4d8",
   "metadata": {},
   "outputs": [],
   "source": []
  },
  {
   "cell_type": "markdown",
   "id": "7c3bc8f2",
   "metadata": {},
   "source": [
    "## Section 4: Understanding Bank Call Reports"
   ]
  },
  {
   "cell_type": "markdown",
   "id": "50805a59",
   "metadata": {},
   "source": [
    "To help with section 5-8 below, first do the following\n",
    "1. Download the PDF format of the quarterly FRY9-C (as of Dec 2022) for your bank by following your bank link\n",
    "* https://www.ffiec.gov/npw/Institution/TopHoldings\n",
    "2. Browse through the statement (you can use control+f to find some of the items) to get the relevant item number for some of the following variables\n",
    "3. In order to understand the variables, you can see FDIC performance report and description of the ratios.\n",
    "* https://www.federalreserve.gov/boarddocs/supmanual/bhcpr/UsersGuide13/default.htm\n",
    "4. Now download the Q4 (as of Dec 12/31) FRY9-C for for the bank for the last five years in CSV format (not manually, make a call inside your python program) by following the bank URL\n",
    "5. Keep only the variables required for sections 5-8. Stack the quarterly data\n",
    "6. Plot the variables for the past five years\n",
    "7. Comment on the patterns that you observe in the data. 1-2 lines per variable. Discuss in the group first."
   ]
  },
  {
   "cell_type": "code",
   "execution_count": null,
   "id": "259acfdb",
   "metadata": {},
   "outputs": [],
   "source": []
  },
  {
   "cell_type": "markdown",
   "id": "d2b68c94",
   "metadata": {},
   "source": [
    "## Section 5: Performance and Financial Position of the Bank: Very Important"
   ]
  },
  {
   "cell_type": "markdown",
   "id": "b0f7411c",
   "metadata": {},
   "source": [
    "From the FRY9-C (10-K when needed), compute and graph these items over the past 5 years.\n",
    "1. earnings\n",
    "2. net interest margins\n",
    "3. non-interest or fee income\n",
    "4. revenues, expenses\n",
    "5. loan mix\n",
    "6. past due and losses\n",
    "7. losses and loan reserves\n",
    "8. liquidity and funding\n",
    "9. capitalization ratios\n",
    "10. growth rates\n",
    "11. asset composition\n",
    "12. liability composition\n",
    "13. liquidity and funding (important)\n",
    "14. maturity gap\n",
    "15. interest rate sensitivity\n",
    "16. what is the major source of the bank performance?\n",
    "17. how did the bank perform compared to the peers? You can get this information from the BHC Performance Report"
   ]
  },
  {
   "cell_type": "code",
   "execution_count": null,
   "id": "1d91b777",
   "metadata": {},
   "outputs": [],
   "source": []
  },
  {
   "cell_type": "markdown",
   "id": "d07d139d",
   "metadata": {},
   "source": [
    "## Section 6: Risk Profile of the Bank from Management Discussion and Analysis (MD&A) section in 10-K or 10-Q"
   ]
  },
  {
   "cell_type": "markdown",
   "id": "0a646144",
   "metadata": {},
   "source": [
    "1. Download the latest 10-K for the bank. If it is not in 2023, you may need to check latest 10-Q.\n",
    "2. Go to the Management Discussion of Risk Management in the Management Discussion and Analysis (MD&A) section\n",
    "3. Based on MD&A discussion,\n",
    "    \n",
    "    1). Is there a Asset Liability Committe (ALCO)? Describe the framework that the bank\n",
    "is using for Asset Liability Management (ALM) within the bank\n",
    "    \n",
    "    2). Interest Rate Risk\n",
    "        * How is the bank measuring and managing interest rate risk for ALM?\n",
    "        * Do they discuss duration and convexity in the context of ALM?\n",
    "4. How does the bank discuss Liquidity Risk Management?\n",
    "    * What are some tools and metrics that the bank is using for liquidity risk management?\n",
    "    * Di they discuss deposit convexity after SVB crisis? (mostly from their 10-Q)\n",
    "5. Does the bank discuss how Basel III regulations affect their ALM strategies?\n",
    "6. Describe the banks ALM Models and Assumptions if they disclosed it? How do they validate their ALM models?\n",
    "7. How is the bank modeling deposits and loan book? What factors are they considering? Is there a scenario analysis?\n",
    "8. How is the bank adapting their ALM strategy to the rising interest rate environments (may need to see latest 10-Q)\n",
    "9. Do they discuss any other strategic considerations for ALM strategy and how it fits in the broad risk management framework?"
   ]
  },
  {
   "cell_type": "code",
   "execution_count": null,
   "id": "151faff6",
   "metadata": {},
   "outputs": [],
   "source": []
  },
  {
   "cell_type": "markdown",
   "id": "c6af03e2",
   "metadata": {},
   "source": [
    "## Section 7: Risk Profile of the Bank from FRY9-C and 10-K / 10-Q"
   ]
  },
  {
   "cell_type": "markdown",
   "id": "0590420a",
   "metadata": {},
   "source": [
    "Analyze the risk profile of the bank (under the same headings as the bank risks lecture).\n",
    "1. Pay special attention to operational risk (fraud etc,)\n",
    "2. Asset Side Risks\n",
    "3. Liability side risks\n",
    "4. Off-balance-sheet risks\n",
    "5. Regulatory Risk\n",
    "6. Exposure to real estate markets"
   ]
  },
  {
   "cell_type": "code",
   "execution_count": null,
   "id": "de0a801b",
   "metadata": {},
   "outputs": [],
   "source": []
  },
  {
   "cell_type": "markdown",
   "id": "628d6cc7",
   "metadata": {},
   "source": [
    "## Section 8: Off-balance sheet activities of the Bank from FRY9-C and 10-K / 10-Q\n",
    "\n",
    "1. Off balance sheet growth over years\n",
    "2. Components of off-balance sheet\n",
    "3. Bank’s Derivative Usage. What are the biggest components?\n",
    "4. Securitization activities\n",
    "5. Level 1, Level 2 and Level 3 assets of the bank\n",
    "6. Value at Risk, Expected Shortfall and other Risk Measures noted in the 10-K/10-Q"
   ]
  },
  {
   "cell_type": "code",
   "execution_count": null,
   "id": "fa66504b",
   "metadata": {},
   "outputs": [],
   "source": []
  },
  {
   "cell_type": "markdown",
   "id": "077f2cd6",
   "metadata": {},
   "source": [
    "## Additional Comments"
   ]
  },
  {
   "cell_type": "markdown",
   "id": "5731974c",
   "metadata": {},
   "source": [
    "Note:\n",
    "1. You are expected to learn some new material through this assignment, in addition to the material covered through lectures in the class\n",
    "2. Present the information in a graphical format to the extent possible. Use Python to generate graphs\n",
    "3. Part of the task is to decide which financial information is relevant and which is not.\n",
    "4. Focus on both income statement and balance sheet"
   ]
  },
  {
   "cell_type": "markdown",
   "id": "7d737040",
   "metadata": {},
   "source": [
    "## Resources\n",
    "\n",
    "1. FDIC, NIC and FFIEC websites\n",
    "2. <b>important </b>https://www.federalreserve.gov/boarddocs/supmanual/bhcpr/UsersGuide13/0313.pdf\n",
    "3. http://www.federalreserve.gov/boarddocs/supmanual/default.htm#bhcuser\n",
    "4. https://www.fdic.gov/search/help.html\n",
    "5. http://www.ffiec.gov/nicpubweb/nicweb/nichome.aspx\n",
    "6. See the Bank Holding Company Performance Report (BHCPR) at\n",
    "    * https://www.ffiec.gov/npw/Institution/TopHoldings.\n",
    "    * Click on your respective bank and then select BHCPR"
   ]
  },
  {
   "cell_type": "code",
   "execution_count": null,
   "id": "c09fc47b",
   "metadata": {},
   "outputs": [],
   "source": []
  }
 ],
 "metadata": {
  "kernelspec": {
   "display_name": "Python 3 (ipykernel)",
   "language": "python",
   "name": "python3"
  },
  "language_info": {
   "codemirror_mode": {
    "name": "ipython",
    "version": 3
   },
   "file_extension": ".py",
   "mimetype": "text/x-python",
   "name": "python",
   "nbconvert_exporter": "python",
   "pygments_lexer": "ipython3",
   "version": "3.9.7"
  }
 },
 "nbformat": 4,
 "nbformat_minor": 5
}
